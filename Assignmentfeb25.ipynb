{
 "cells": [
  {
   "cell_type": "code",
   "execution_count": 2,
   "id": "b83f0d5b-5ae2-4a1f-a28b-3dd83fbe1136",
   "metadata": {},
   "outputs": [],
   "source": [
    "import pandas as pd\n",
    "course_name = ['Data Science', 'Machine Learning', 'Big Data', 'Data Engineer']\n",
    "duration = [2,3,6,4]\n",
    "df = pd.DataFrame(data = {'course_name' : course_name, 'duration' : duration})"
   ]
  },
  {
   "cell_type": "code",
   "execution_count": 3,
   "id": "ac4c059b-195f-4083-99ba-8e5afdf5bab9",
   "metadata": {},
   "outputs": [
    {
     "data": {
      "text/html": [
       "<div>\n",
       "<style scoped>\n",
       "    .dataframe tbody tr th:only-of-type {\n",
       "        vertical-align: middle;\n",
       "    }\n",
       "\n",
       "    .dataframe tbody tr th {\n",
       "        vertical-align: top;\n",
       "    }\n",
       "\n",
       "    .dataframe thead th {\n",
       "        text-align: right;\n",
       "    }\n",
       "</style>\n",
       "<table border=\"1\" class=\"dataframe\">\n",
       "  <thead>\n",
       "    <tr style=\"text-align: right;\">\n",
       "      <th></th>\n",
       "      <th>course_name</th>\n",
       "      <th>duration</th>\n",
       "    </tr>\n",
       "  </thead>\n",
       "  <tbody>\n",
       "    <tr>\n",
       "      <th>0</th>\n",
       "      <td>Data Science</td>\n",
       "      <td>2</td>\n",
       "    </tr>\n",
       "    <tr>\n",
       "      <th>1</th>\n",
       "      <td>Machine Learning</td>\n",
       "      <td>3</td>\n",
       "    </tr>\n",
       "    <tr>\n",
       "      <th>2</th>\n",
       "      <td>Big Data</td>\n",
       "      <td>6</td>\n",
       "    </tr>\n",
       "    <tr>\n",
       "      <th>3</th>\n",
       "      <td>Data Engineer</td>\n",
       "      <td>4</td>\n",
       "    </tr>\n",
       "  </tbody>\n",
       "</table>\n",
       "</div>"
      ],
      "text/plain": [
       "        course_name  duration\n",
       "0      Data Science         2\n",
       "1  Machine Learning         3\n",
       "2          Big Data         6\n",
       "3     Data Engineer         4"
      ]
     },
     "execution_count": 3,
     "metadata": {},
     "output_type": "execute_result"
    }
   ],
   "source": [
    "df"
   ]
  },
  {
   "cell_type": "markdown",
   "id": "45a8d934-2db2-49d0-9b7a-0a4b081f6efa",
   "metadata": {},
   "source": [
    "Q1. Write a code to print the data present in the second row of the dataframe?"
   ]
  },
  {
   "cell_type": "code",
   "execution_count": 9,
   "id": "55467d80-a5fe-483d-b091-242aa61697db",
   "metadata": {},
   "outputs": [],
   "source": [
    "row2=df.iloc[1]"
   ]
  },
  {
   "cell_type": "code",
   "execution_count": 10,
   "id": "8780ca2d-7775-4269-8be9-c2b1ad76007c",
   "metadata": {},
   "outputs": [
    {
     "name": "stdout",
     "output_type": "stream",
     "text": [
      "course_name    Machine Learning\n",
      "duration                      3\n",
      "Name: 1, dtype: object\n"
     ]
    }
   ],
   "source": [
    "print(row2)"
   ]
  },
  {
   "cell_type": "markdown",
   "id": "a70ec7c2-91bf-43c0-bbdc-76f54481d0e4",
   "metadata": {},
   "source": [
    "Q2. What is the difference between the functions loc and iloc in pandas.DataFrame?"
   ]
  },
  {
   "cell_type": "markdown",
   "id": "33c0b5ee-3754-403b-a622-f741645aa0af",
   "metadata": {},
   "source": [
    "iloc takes inbuilt indexes and loc takes named indexes."
   ]
  },
  {
   "cell_type": "markdown",
   "id": "c977d094-e3d4-4850-9a4e-fab99f8324ac",
   "metadata": {},
   "source": [
    "Q3. Reindex the given dataframe using a variable, reindex = [3,0,1,2] and store it in the variable, new_df\n",
    "then find the output for both new_df.loc[2] and new_df.iloc[2]?"
   ]
  },
  {
   "cell_type": "code",
   "execution_count": 13,
   "id": "878ac428-8346-4104-ab79-8c8a2cdc4acb",
   "metadata": {},
   "outputs": [],
   "source": [
    "reindex=df.reindex([3,0,1,2])"
   ]
  },
  {
   "cell_type": "code",
   "execution_count": 14,
   "id": "69db7ed4-70d8-4f7b-8ded-11c4ede77afa",
   "metadata": {},
   "outputs": [
    {
     "data": {
      "text/html": [
       "<div>\n",
       "<style scoped>\n",
       "    .dataframe tbody tr th:only-of-type {\n",
       "        vertical-align: middle;\n",
       "    }\n",
       "\n",
       "    .dataframe tbody tr th {\n",
       "        vertical-align: top;\n",
       "    }\n",
       "\n",
       "    .dataframe thead th {\n",
       "        text-align: right;\n",
       "    }\n",
       "</style>\n",
       "<table border=\"1\" class=\"dataframe\">\n",
       "  <thead>\n",
       "    <tr style=\"text-align: right;\">\n",
       "      <th></th>\n",
       "      <th>course_name</th>\n",
       "      <th>duration</th>\n",
       "    </tr>\n",
       "  </thead>\n",
       "  <tbody>\n",
       "    <tr>\n",
       "      <th>3</th>\n",
       "      <td>Data Engineer</td>\n",
       "      <td>4</td>\n",
       "    </tr>\n",
       "    <tr>\n",
       "      <th>0</th>\n",
       "      <td>Data Science</td>\n",
       "      <td>2</td>\n",
       "    </tr>\n",
       "    <tr>\n",
       "      <th>1</th>\n",
       "      <td>Machine Learning</td>\n",
       "      <td>3</td>\n",
       "    </tr>\n",
       "    <tr>\n",
       "      <th>2</th>\n",
       "      <td>Big Data</td>\n",
       "      <td>6</td>\n",
       "    </tr>\n",
       "  </tbody>\n",
       "</table>\n",
       "</div>"
      ],
      "text/plain": [
       "        course_name  duration\n",
       "3     Data Engineer         4\n",
       "0      Data Science         2\n",
       "1  Machine Learning         3\n",
       "2          Big Data         6"
      ]
     },
     "execution_count": 14,
     "metadata": {},
     "output_type": "execute_result"
    }
   ],
   "source": [
    "reindex"
   ]
  },
  {
   "cell_type": "code",
   "execution_count": 15,
   "id": "1a60086b-44d7-4e43-8934-6d14e95f6f5d",
   "metadata": {},
   "outputs": [],
   "source": [
    "new_df=pd.DataFrame(reindex)"
   ]
  },
  {
   "cell_type": "code",
   "execution_count": 16,
   "id": "4de3fcc3-a1c0-4545-a24c-a93b22e0a39d",
   "metadata": {},
   "outputs": [
    {
     "data": {
      "text/html": [
       "<div>\n",
       "<style scoped>\n",
       "    .dataframe tbody tr th:only-of-type {\n",
       "        vertical-align: middle;\n",
       "    }\n",
       "\n",
       "    .dataframe tbody tr th {\n",
       "        vertical-align: top;\n",
       "    }\n",
       "\n",
       "    .dataframe thead th {\n",
       "        text-align: right;\n",
       "    }\n",
       "</style>\n",
       "<table border=\"1\" class=\"dataframe\">\n",
       "  <thead>\n",
       "    <tr style=\"text-align: right;\">\n",
       "      <th></th>\n",
       "      <th>course_name</th>\n",
       "      <th>duration</th>\n",
       "    </tr>\n",
       "  </thead>\n",
       "  <tbody>\n",
       "    <tr>\n",
       "      <th>3</th>\n",
       "      <td>Data Engineer</td>\n",
       "      <td>4</td>\n",
       "    </tr>\n",
       "    <tr>\n",
       "      <th>0</th>\n",
       "      <td>Data Science</td>\n",
       "      <td>2</td>\n",
       "    </tr>\n",
       "    <tr>\n",
       "      <th>1</th>\n",
       "      <td>Machine Learning</td>\n",
       "      <td>3</td>\n",
       "    </tr>\n",
       "    <tr>\n",
       "      <th>2</th>\n",
       "      <td>Big Data</td>\n",
       "      <td>6</td>\n",
       "    </tr>\n",
       "  </tbody>\n",
       "</table>\n",
       "</div>"
      ],
      "text/plain": [
       "        course_name  duration\n",
       "3     Data Engineer         4\n",
       "0      Data Science         2\n",
       "1  Machine Learning         3\n",
       "2          Big Data         6"
      ]
     },
     "execution_count": 16,
     "metadata": {},
     "output_type": "execute_result"
    }
   ],
   "source": [
    "new_df"
   ]
  },
  {
   "cell_type": "code",
   "execution_count": 17,
   "id": "ba952243-d061-41da-80ac-a2d17f1501b5",
   "metadata": {},
   "outputs": [
    {
     "data": {
      "text/plain": [
       "course_name    Big Data\n",
       "duration              6\n",
       "Name: 2, dtype: object"
      ]
     },
     "execution_count": 17,
     "metadata": {},
     "output_type": "execute_result"
    }
   ],
   "source": [
    "new_df.loc[2]"
   ]
  },
  {
   "cell_type": "code",
   "execution_count": 18,
   "id": "a151298d-93cf-4ce2-afc1-20cf6ab6a44f",
   "metadata": {},
   "outputs": [
    {
     "data": {
      "text/plain": [
       "course_name    Machine Learning\n",
       "duration                      3\n",
       "Name: 1, dtype: object"
      ]
     },
     "execution_count": 18,
     "metadata": {},
     "output_type": "execute_result"
    }
   ],
   "source": [
    "new_df.iloc[2]"
   ]
  },
  {
   "cell_type": "code",
   "execution_count": 19,
   "id": "27666089-bf5e-45bd-93ac-38ad17a476d7",
   "metadata": {},
   "outputs": [],
   "source": [
    "import pandas as pd\n",
    "import numpy as np\n",
    "columns = ['column_1', 'column_2', 'column_3', 'column_4', 'column_5', 'column_6']\n",
    "indices = [1,2,3,4,5,6]\n",
    "#Creating a dataframe:\n",
    "df1 = pd.DataFrame(np.random.rand(6,6), columns = columns, index = indices)"
   ]
  },
  {
   "cell_type": "code",
   "execution_count": 20,
   "id": "bb16ff9e-3f3e-43f7-8537-bedf2070c368",
   "metadata": {},
   "outputs": [
    {
     "data": {
      "text/html": [
       "<div>\n",
       "<style scoped>\n",
       "    .dataframe tbody tr th:only-of-type {\n",
       "        vertical-align: middle;\n",
       "    }\n",
       "\n",
       "    .dataframe tbody tr th {\n",
       "        vertical-align: top;\n",
       "    }\n",
       "\n",
       "    .dataframe thead th {\n",
       "        text-align: right;\n",
       "    }\n",
       "</style>\n",
       "<table border=\"1\" class=\"dataframe\">\n",
       "  <thead>\n",
       "    <tr style=\"text-align: right;\">\n",
       "      <th></th>\n",
       "      <th>column_1</th>\n",
       "      <th>column_2</th>\n",
       "      <th>column_3</th>\n",
       "      <th>column_4</th>\n",
       "      <th>column_5</th>\n",
       "      <th>column_6</th>\n",
       "    </tr>\n",
       "  </thead>\n",
       "  <tbody>\n",
       "    <tr>\n",
       "      <th>1</th>\n",
       "      <td>0.317491</td>\n",
       "      <td>0.339165</td>\n",
       "      <td>0.374764</td>\n",
       "      <td>0.161476</td>\n",
       "      <td>0.405757</td>\n",
       "      <td>0.767259</td>\n",
       "    </tr>\n",
       "    <tr>\n",
       "      <th>2</th>\n",
       "      <td>0.661711</td>\n",
       "      <td>0.217301</td>\n",
       "      <td>0.357401</td>\n",
       "      <td>0.929581</td>\n",
       "      <td>0.595755</td>\n",
       "      <td>0.163466</td>\n",
       "    </tr>\n",
       "    <tr>\n",
       "      <th>3</th>\n",
       "      <td>0.791206</td>\n",
       "      <td>0.929514</td>\n",
       "      <td>0.596631</td>\n",
       "      <td>0.269497</td>\n",
       "      <td>0.623435</td>\n",
       "      <td>0.060881</td>\n",
       "    </tr>\n",
       "    <tr>\n",
       "      <th>4</th>\n",
       "      <td>0.631460</td>\n",
       "      <td>0.118721</td>\n",
       "      <td>0.417014</td>\n",
       "      <td>0.586896</td>\n",
       "      <td>0.653371</td>\n",
       "      <td>0.314157</td>\n",
       "    </tr>\n",
       "    <tr>\n",
       "      <th>5</th>\n",
       "      <td>0.342428</td>\n",
       "      <td>0.273379</td>\n",
       "      <td>0.397845</td>\n",
       "      <td>0.324594</td>\n",
       "      <td>0.749448</td>\n",
       "      <td>0.013199</td>\n",
       "    </tr>\n",
       "    <tr>\n",
       "      <th>6</th>\n",
       "      <td>0.723045</td>\n",
       "      <td>0.921488</td>\n",
       "      <td>0.216558</td>\n",
       "      <td>0.359871</td>\n",
       "      <td>0.900807</td>\n",
       "      <td>0.199082</td>\n",
       "    </tr>\n",
       "  </tbody>\n",
       "</table>\n",
       "</div>"
      ],
      "text/plain": [
       "   column_1  column_2  column_3  column_4  column_5  column_6\n",
       "1  0.317491  0.339165  0.374764  0.161476  0.405757  0.767259\n",
       "2  0.661711  0.217301  0.357401  0.929581  0.595755  0.163466\n",
       "3  0.791206  0.929514  0.596631  0.269497  0.623435  0.060881\n",
       "4  0.631460  0.118721  0.417014  0.586896  0.653371  0.314157\n",
       "5  0.342428  0.273379  0.397845  0.324594  0.749448  0.013199\n",
       "6  0.723045  0.921488  0.216558  0.359871  0.900807  0.199082"
      ]
     },
     "execution_count": 20,
     "metadata": {},
     "output_type": "execute_result"
    }
   ],
   "source": [
    "df1"
   ]
  },
  {
   "cell_type": "markdown",
   "id": "f110f62f-1acb-423b-82c5-cd9f9d25bd16",
   "metadata": {},
   "source": [
    "Q4. Write a code to find the following statistical measurements for the above dataframe df1:\n",
    "(i) mean of each and every column present in the dataframe.\n",
    "(ii) standard deviation of column, ‘column_2’?"
   ]
  },
  {
   "cell_type": "code",
   "execution_count": 21,
   "id": "2413d753-11bf-4146-b382-7fe8f6883eab",
   "metadata": {},
   "outputs": [],
   "source": [
    "g=df1.groupby('column_2')"
   ]
  },
  {
   "cell_type": "code",
   "execution_count": 23,
   "id": "cae307ac-23aa-4ceb-a50a-da9abd78abaf",
   "metadata": {},
   "outputs": [
    {
     "data": {
      "text/html": [
       "<div>\n",
       "<style scoped>\n",
       "    .dataframe tbody tr th:only-of-type {\n",
       "        vertical-align: middle;\n",
       "    }\n",
       "\n",
       "    .dataframe tbody tr th {\n",
       "        vertical-align: top;\n",
       "    }\n",
       "\n",
       "    .dataframe thead th {\n",
       "        text-align: right;\n",
       "    }\n",
       "</style>\n",
       "<table border=\"1\" class=\"dataframe\">\n",
       "  <thead>\n",
       "    <tr style=\"text-align: right;\">\n",
       "      <th></th>\n",
       "      <th>column_1</th>\n",
       "      <th>column_3</th>\n",
       "      <th>column_4</th>\n",
       "      <th>column_5</th>\n",
       "      <th>column_6</th>\n",
       "    </tr>\n",
       "    <tr>\n",
       "      <th>column_2</th>\n",
       "      <th></th>\n",
       "      <th></th>\n",
       "      <th></th>\n",
       "      <th></th>\n",
       "      <th></th>\n",
       "    </tr>\n",
       "  </thead>\n",
       "  <tbody>\n",
       "    <tr>\n",
       "      <th>0.118721</th>\n",
       "      <td>NaN</td>\n",
       "      <td>NaN</td>\n",
       "      <td>NaN</td>\n",
       "      <td>NaN</td>\n",
       "      <td>NaN</td>\n",
       "    </tr>\n",
       "    <tr>\n",
       "      <th>0.217301</th>\n",
       "      <td>NaN</td>\n",
       "      <td>NaN</td>\n",
       "      <td>NaN</td>\n",
       "      <td>NaN</td>\n",
       "      <td>NaN</td>\n",
       "    </tr>\n",
       "    <tr>\n",
       "      <th>0.273379</th>\n",
       "      <td>NaN</td>\n",
       "      <td>NaN</td>\n",
       "      <td>NaN</td>\n",
       "      <td>NaN</td>\n",
       "      <td>NaN</td>\n",
       "    </tr>\n",
       "    <tr>\n",
       "      <th>0.339165</th>\n",
       "      <td>NaN</td>\n",
       "      <td>NaN</td>\n",
       "      <td>NaN</td>\n",
       "      <td>NaN</td>\n",
       "      <td>NaN</td>\n",
       "    </tr>\n",
       "    <tr>\n",
       "      <th>0.921488</th>\n",
       "      <td>NaN</td>\n",
       "      <td>NaN</td>\n",
       "      <td>NaN</td>\n",
       "      <td>NaN</td>\n",
       "      <td>NaN</td>\n",
       "    </tr>\n",
       "    <tr>\n",
       "      <th>0.929514</th>\n",
       "      <td>NaN</td>\n",
       "      <td>NaN</td>\n",
       "      <td>NaN</td>\n",
       "      <td>NaN</td>\n",
       "      <td>NaN</td>\n",
       "    </tr>\n",
       "  </tbody>\n",
       "</table>\n",
       "</div>"
      ],
      "text/plain": [
       "          column_1  column_3  column_4  column_5  column_6\n",
       "column_2                                                  \n",
       "0.118721       NaN       NaN       NaN       NaN       NaN\n",
       "0.217301       NaN       NaN       NaN       NaN       NaN\n",
       "0.273379       NaN       NaN       NaN       NaN       NaN\n",
       "0.339165       NaN       NaN       NaN       NaN       NaN\n",
       "0.921488       NaN       NaN       NaN       NaN       NaN\n",
       "0.929514       NaN       NaN       NaN       NaN       NaN"
      ]
     },
     "execution_count": 23,
     "metadata": {},
     "output_type": "execute_result"
    }
   ],
   "source": [
    "g.std()"
   ]
  },
  {
   "cell_type": "code",
   "execution_count": 25,
   "id": "a0628e37-c2a6-4f16-9edb-bb6173201fb9",
   "metadata": {},
   "outputs": [],
   "source": [
    "g1=df1.groupby(['column_1','column_2','column_3','column_4','column_5','column_6'])"
   ]
  },
  {
   "cell_type": "code",
   "execution_count": 26,
   "id": "54fed8d4-32bd-4d3f-842b-68509bea1ea4",
   "metadata": {},
   "outputs": [
    {
     "data": {
      "text/html": [
       "<div>\n",
       "<style scoped>\n",
       "    .dataframe tbody tr th:only-of-type {\n",
       "        vertical-align: middle;\n",
       "    }\n",
       "\n",
       "    .dataframe tbody tr th {\n",
       "        vertical-align: top;\n",
       "    }\n",
       "\n",
       "    .dataframe thead th {\n",
       "        text-align: right;\n",
       "    }\n",
       "</style>\n",
       "<table border=\"1\" class=\"dataframe\">\n",
       "  <thead>\n",
       "    <tr style=\"text-align: right;\">\n",
       "      <th></th>\n",
       "      <th></th>\n",
       "      <th></th>\n",
       "      <th></th>\n",
       "      <th></th>\n",
       "      <th></th>\n",
       "    </tr>\n",
       "    <tr>\n",
       "      <th>column_1</th>\n",
       "      <th>column_2</th>\n",
       "      <th>column_3</th>\n",
       "      <th>column_4</th>\n",
       "      <th>column_5</th>\n",
       "      <th>column_6</th>\n",
       "    </tr>\n",
       "  </thead>\n",
       "  <tbody>\n",
       "    <tr>\n",
       "      <th>0.317491</th>\n",
       "      <th>0.339165</th>\n",
       "      <th>0.374764</th>\n",
       "      <th>0.161476</th>\n",
       "      <th>0.405757</th>\n",
       "      <th>0.767259</th>\n",
       "    </tr>\n",
       "    <tr>\n",
       "      <th>0.342428</th>\n",
       "      <th>0.273379</th>\n",
       "      <th>0.397845</th>\n",
       "      <th>0.324594</th>\n",
       "      <th>0.749448</th>\n",
       "      <th>0.013199</th>\n",
       "    </tr>\n",
       "    <tr>\n",
       "      <th>0.631460</th>\n",
       "      <th>0.118721</th>\n",
       "      <th>0.417014</th>\n",
       "      <th>0.586896</th>\n",
       "      <th>0.653371</th>\n",
       "      <th>0.314157</th>\n",
       "    </tr>\n",
       "    <tr>\n",
       "      <th>0.661711</th>\n",
       "      <th>0.217301</th>\n",
       "      <th>0.357401</th>\n",
       "      <th>0.929581</th>\n",
       "      <th>0.595755</th>\n",
       "      <th>0.163466</th>\n",
       "    </tr>\n",
       "    <tr>\n",
       "      <th>0.723045</th>\n",
       "      <th>0.921488</th>\n",
       "      <th>0.216558</th>\n",
       "      <th>0.359871</th>\n",
       "      <th>0.900807</th>\n",
       "      <th>0.199082</th>\n",
       "    </tr>\n",
       "    <tr>\n",
       "      <th>0.791206</th>\n",
       "      <th>0.929514</th>\n",
       "      <th>0.596631</th>\n",
       "      <th>0.269497</th>\n",
       "      <th>0.623435</th>\n",
       "      <th>0.060881</th>\n",
       "    </tr>\n",
       "  </tbody>\n",
       "</table>\n",
       "</div>"
      ],
      "text/plain": [
       "Empty DataFrame\n",
       "Columns: []\n",
       "Index: [(0.317491153993645, 0.33916512368651563, 0.3747641979547559, 0.16147555530974467, 0.40575686395385424, 0.7672587962973274), (0.342428037568577, 0.2733790001709917, 0.3978450789231468, 0.32459439385997646, 0.7494483981987174, 0.013198971926652758), (0.63146030009517, 0.11872106825718431, 0.4170135199742281, 0.5868958638563931, 0.6533713440811226, 0.3141569177138125), (0.661711145761788, 0.21730053793054827, 0.35740061421375324, 0.9295807051343243, 0.5957553352469228, 0.1634659404706068), (0.7230451204414673, 0.921487531103694, 0.21655786822491563, 0.359870897214853, 0.9008071301466293, 0.19908181267051883), (0.7912062559557255, 0.9295138160303899, 0.5966314468462867, 0.26949730037689545, 0.623434884512953, 0.06088093327731292)]"
      ]
     },
     "execution_count": 26,
     "metadata": {},
     "output_type": "execute_result"
    }
   ],
   "source": [
    "g1.mean()"
   ]
  },
  {
   "cell_type": "markdown",
   "id": "05d81922-65ba-42fb-9efb-e3412df1b017",
   "metadata": {},
   "source": [
    "Q5. Replace the data present in the second row of column, ‘column_2’ by a string variable then find the\n",
    "mean of column, column_2.\n",
    "If you are getting errors in executing it then explain why.\n",
    "[Hint: To replace the data use df1.loc[] and equate this to string data of your choice.]?"
   ]
  },
  {
   "cell_type": "code",
   "execution_count": 27,
   "id": "cc0783e7-c739-481d-af52-58325e453f85",
   "metadata": {},
   "outputs": [
    {
     "data": {
      "text/html": [
       "<div>\n",
       "<style scoped>\n",
       "    .dataframe tbody tr th:only-of-type {\n",
       "        vertical-align: middle;\n",
       "    }\n",
       "\n",
       "    .dataframe tbody tr th {\n",
       "        vertical-align: top;\n",
       "    }\n",
       "\n",
       "    .dataframe thead th {\n",
       "        text-align: right;\n",
       "    }\n",
       "</style>\n",
       "<table border=\"1\" class=\"dataframe\">\n",
       "  <thead>\n",
       "    <tr style=\"text-align: right;\">\n",
       "      <th></th>\n",
       "      <th>column_1</th>\n",
       "      <th>column_2</th>\n",
       "      <th>column_3</th>\n",
       "      <th>column_4</th>\n",
       "      <th>column_5</th>\n",
       "      <th>column_6</th>\n",
       "    </tr>\n",
       "  </thead>\n",
       "  <tbody>\n",
       "    <tr>\n",
       "      <th>1</th>\n",
       "      <td>0.317491</td>\n",
       "      <td>0.339165</td>\n",
       "      <td>0.374764</td>\n",
       "      <td>0.161476</td>\n",
       "      <td>0.405757</td>\n",
       "      <td>0.767259</td>\n",
       "    </tr>\n",
       "    <tr>\n",
       "      <th>2</th>\n",
       "      <td>0.661711</td>\n",
       "      <td>0.217301</td>\n",
       "      <td>0.357401</td>\n",
       "      <td>0.929581</td>\n",
       "      <td>0.595755</td>\n",
       "      <td>0.163466</td>\n",
       "    </tr>\n",
       "    <tr>\n",
       "      <th>3</th>\n",
       "      <td>0.791206</td>\n",
       "      <td>0.929514</td>\n",
       "      <td>0.596631</td>\n",
       "      <td>0.269497</td>\n",
       "      <td>0.623435</td>\n",
       "      <td>0.060881</td>\n",
       "    </tr>\n",
       "    <tr>\n",
       "      <th>4</th>\n",
       "      <td>0.631460</td>\n",
       "      <td>0.118721</td>\n",
       "      <td>0.417014</td>\n",
       "      <td>0.586896</td>\n",
       "      <td>0.653371</td>\n",
       "      <td>0.314157</td>\n",
       "    </tr>\n",
       "    <tr>\n",
       "      <th>5</th>\n",
       "      <td>0.342428</td>\n",
       "      <td>0.273379</td>\n",
       "      <td>0.397845</td>\n",
       "      <td>0.324594</td>\n",
       "      <td>0.749448</td>\n",
       "      <td>0.013199</td>\n",
       "    </tr>\n",
       "    <tr>\n",
       "      <th>6</th>\n",
       "      <td>0.723045</td>\n",
       "      <td>0.921488</td>\n",
       "      <td>0.216558</td>\n",
       "      <td>0.359871</td>\n",
       "      <td>0.900807</td>\n",
       "      <td>0.199082</td>\n",
       "    </tr>\n",
       "  </tbody>\n",
       "</table>\n",
       "</div>"
      ],
      "text/plain": [
       "   column_1  column_2  column_3  column_4  column_5  column_6\n",
       "1  0.317491  0.339165  0.374764  0.161476  0.405757  0.767259\n",
       "2  0.661711  0.217301  0.357401  0.929581  0.595755  0.163466\n",
       "3  0.791206  0.929514  0.596631  0.269497  0.623435  0.060881\n",
       "4  0.631460  0.118721  0.417014  0.586896  0.653371  0.314157\n",
       "5  0.342428  0.273379  0.397845  0.324594  0.749448  0.013199\n",
       "6  0.723045  0.921488  0.216558  0.359871  0.900807  0.199082"
      ]
     },
     "execution_count": 27,
     "metadata": {},
     "output_type": "execute_result"
    }
   ],
   "source": [
    "df1"
   ]
  },
  {
   "cell_type": "code",
   "execution_count": 29,
   "id": "3033e4be-1748-44e6-81f0-75d2912190f6",
   "metadata": {},
   "outputs": [],
   "source": [
    "df1.loc[2, 'column_2'] = 'string data'"
   ]
  },
  {
   "cell_type": "code",
   "execution_count": 1,
   "id": "f68e95de-eee6-46eb-a562-aaf2a95f7120",
   "metadata": {},
   "outputs": [
    {
     "ename": "NameError",
     "evalue": "name 'df1' is not defined",
     "output_type": "error",
     "traceback": [
      "\u001b[0;31m---------------------------------------------------------------------------\u001b[0m",
      "\u001b[0;31mNameError\u001b[0m                                 Traceback (most recent call last)",
      "Cell \u001b[0;32mIn[1], line 1\u001b[0m\n\u001b[0;32m----> 1\u001b[0m mean_column_2 \u001b[38;5;241m=\u001b[39m \u001b[43mdf1\u001b[49m[\u001b[38;5;124m'\u001b[39m\u001b[38;5;124mcolumn_2\u001b[39m\u001b[38;5;124m'\u001b[39m]\u001b[38;5;241m.\u001b[39mmean()\n",
      "\u001b[0;31mNameError\u001b[0m: name 'df1' is not defined"
     ]
    }
   ],
   "source": [
    "mean_column_2 = df1['column_2'].mean()"
   ]
  },
  {
   "cell_type": "markdown",
   "id": "95296d8e-3512-4988-b721-66d9b32b2619",
   "metadata": {},
   "source": [
    "The data type of column_2 is not specified in the original code, it is possible that there could be errors when trying to calculate the mean. If the data type of column_2 is not numeric (e.g., if it contains string data), then trying to calculate the mean will result in a TypeError. In this case, you would need to first convert the data in column_2 to a numeric data type (e.g., by using the .astype() method) before calculating the mean."
   ]
  },
  {
   "cell_type": "markdown",
   "id": "5ce03ea4-2bb5-465c-8d9a-ae6cb4a484c4",
   "metadata": {},
   "source": [
    "Q6. What do you understand about the windows function in pandas and list the types of windows\n",
    "functions?"
   ]
  },
  {
   "cell_type": "markdown",
   "id": "b34db2c2-6917-417a-bdba-c350165ed0b0",
   "metadata": {},
   "source": [
    "In Pandas, a window function is a way to perform a calculation over a specified sliding window of data in a DataFrame or Series. The window can be defined by a fixed number of rows or by a time-based interval. The result of the window function is a new DataFrame or Series with the same index as the original data, where each value is the result of the calculation performed over the corresponding window of data.\n",
    "\n",
    "There are several types of window functions available in Pandas, including:\n",
    "\n",
    "Rolling Window: This window function calculates the result based on a fixed-size sliding window of data. It takes a window size parameter and can perform a wide variety of calculations, such as mean, median, standard deviation, and more.\n",
    "\n",
    "Expanding Window: This window function calculates the result based on all the data up to the current point in time. It includes all the rows up to the current row and can be used to calculate the cumulative sum, mean, and other statistical calculations.\n",
    "\n",
    "Exponentially Weighted Window: This window function calculates the result based on a weighted average of the data in the window, with more recent data being given more weight. It can be used to calculate a moving average or other calculations that give more importance to recent data.\n",
    "\n",
    "Rolling Time Window: This window function works similarly to the rolling window, but it takes a time-based window size instead of a fixed number of rows. It can be used to perform calculations over a specified time period, such as a week or a month.\n",
    "\n",
    "Rolling Window with Groupby: This window function is similar to the rolling window, but it can be applied to a DataFrame with multiple groups. It can be used to calculate group-specific statistics over a sliding window of data."
   ]
  },
  {
   "cell_type": "markdown",
   "id": "994f475e-cc8b-4748-bf65-358d21bf88dc",
   "metadata": {},
   "source": [
    "Q7. Write a code to print only the current month and year at the time of answering this question?\n",
    "[Hint: Use pandas.datetime function]"
   ]
  },
  {
   "cell_type": "code",
   "execution_count": 1,
   "id": "53b6eab7-f8e5-4513-a824-8d8c418689af",
   "metadata": {},
   "outputs": [
    {
     "name": "stdout",
     "output_type": "stream",
     "text": [
      "current month: 3\n",
      "current year: 2023\n",
      "current time: 17:55:1678038954\n"
     ]
    },
    {
     "name": "stderr",
     "output_type": "stream",
     "text": [
      "/tmp/ipykernel_1455/1846534560.py:2: FutureWarning: The pandas.datetime class is deprecated and will be removed from pandas in a future version. Import from datetime module instead.\n",
      "  today=pd.datetime.now()\n"
     ]
    }
   ],
   "source": [
    "import pandas as pd\n",
    "today=pd.datetime.now()\n",
    "current_month=today.month\n",
    "current_year=today.year\n",
    "current_time=today.strftime('%H:%M:%s')\n",
    "print('current month:',current_month)\n",
    "print('current year:',current_year)\n",
    "print('current time:',current_time)"
   ]
  },
  {
   "cell_type": "markdown",
   "id": "5acc3ca9-664b-4e3e-bc3b-1b55af31871f",
   "metadata": {},
   "source": [
    "Q8. Write a Python program that takes in two dates as input (in the format YYYY-MM-DD) and\n",
    "calculates the difference between them in days, hours, and minutes using Pandas time delta. The\n",
    "program should prompt the user to enter the dates and display the result?"
   ]
  },
  {
   "cell_type": "code",
   "execution_count": 39,
   "id": "05c80aa8-a846-4fc1-b114-252c9264dfe0",
   "metadata": {},
   "outputs": [
    {
     "name": "stdin",
     "output_type": "stream",
     "text": [
      "Enter your first date(yyyy-mm-dd) 2023-03-05\n",
      "Enter your first date(yyyy-mm-dd) 2023-04-02\n"
     ]
    },
    {
     "name": "stdout",
     "output_type": "stream",
     "text": [
      "Time difference between 2023-03-05 and 2023-04-02 :\n",
      "Days: 28\n",
      "Hours: 0\n",
      "Minutes: 0\n"
     ]
    }
   ],
   "source": [
    "import pandas as pd \n",
    "date1=input('Enter your first date(yyyy-mm-dd)')\n",
    "date2=input('Enter your first date(yyyy-mm-dd)')\n",
    "dt1=pd.to_datetime(date1)\n",
    "dt2=pd.to_datetime(date2)\n",
    "time_diff=dt2-dt1\n",
    "days_diff=time_diff.days\n",
    "hour_diff=time_diff.seconds // 3600\n",
    "minutes_diff=(time_diff.seconds // 60) % 60\n",
    "print(\"Time difference between\", date1, \"and\", date2, \":\")\n",
    "print(\"Days:\", days_diff)\n",
    "print(\"Hours:\", hour_diff)\n",
    "print(\"Minutes:\", minutes_diff)"
   ]
  },
  {
   "cell_type": "markdown",
   "id": "f6226d7c-c454-4be4-9270-6dea21efc80f",
   "metadata": {},
   "source": [
    "Q9. Write a Python program that reads a CSV file containing categorical data and converts a specified\n",
    "column to a categorical data type. The program should prompt the user to enter the file path, column\n",
    "name, and category order, and then display the sorted data?"
   ]
  },
  {
   "cell_type": "code",
   "execution_count": 5,
   "id": "dbab35d5-ea7b-4b80-ba37-292217df74a9",
   "metadata": {},
   "outputs": [],
   "source": [
    "\n",
    "import pandas as pd\n",
    "data = {\"id\":[1,2,3,4,5,6,7,8],\n",
    "       \"Category\":['A','C','C','D','D','F','A','A']\n",
    "       }"
   ]
  },
  {
   "cell_type": "code",
   "execution_count": 6,
   "id": "e2f348d7-9c61-4a9b-885a-9ca585bb0eb6",
   "metadata": {},
   "outputs": [],
   "source": [
    "df = pd.DataFrame(data)\n",
    "df.to_csv('q9.csv')"
   ]
  },
  {
   "cell_type": "code",
   "execution_count": null,
   "id": "6032a770-15b8-4c9b-a5cf-6437cf37ee2e",
   "metadata": {},
   "outputs": [],
   "source": [
    "file_path= input(\"Enter the path to csv file: \")\n",
    "column_name=input('Enter the name of the column to convert: ')\n",
    "category_order=input('Enter the category order(comma-separated list): ')\n",
    "\n",
    "data1=pd.read_csv(file_path)\n",
    "categories=category_order.split(\",\")\n",
    "data[column_name]=pd.Categorical(data1[column_name],categories=categories,ordered=True)\n",
    "\n",
    "sorted_data = data1.sort_values(by=column_name)\n",
    "\n",
    "print(f'{file_path=}')ta\n",
    "\n",
    "print(f'{column_name=}')\n",
    "print(f'{category_order=}')"
   ]
  },
  {
   "cell_type": "markdown",
   "id": "f388225a-7609-445b-920b-0d2009fc8854",
   "metadata": {},
   "source": [
    "Q10. Write a Python program that reads a CSV file containing sales data for different products and\n",
    "visualizes the data using a stacked bar chart to show the sales of each product category over time. The\n",
    "program should prompt the user to enter the file path and display the chart?"
   ]
  },
  {
   "cell_type": "code",
   "execution_count": null,
   "id": "0a7635b9-adef-4b5c-8ad8-5f01fbf06422",
   "metadata": {},
   "outputs": [],
   "source": [
    "file_path=input('Enter the path of csv file containg sales data: ')\n",
    "sales=pd.read_csv(file_path)\n",
    "sales['Date']=sales['Date'].astype('datetime64')\n",
    "sales.head()"
   ]
  },
  {
   "cell_type": "code",
   "execution_count": null,
   "id": "aacb5be8-9a18-472b-9b76-a6b1545e7b0b",
   "metadata": {},
   "outputs": [],
   "source": [
    "sales_grouped=sales.groupby(['Date','Category'])['Sales'].sum().reset_index()\n",
    "sales_grouped.head()"
   ]
  },
  {
   "cell_type": "code",
   "execution_count": null,
   "id": "25ebbe2c-2a5b-4eaa-a98d-4e2569af5f29",
   "metadata": {},
   "outputs": [],
   "source": [
    "sales_pivot=sales_grouped.pivot(index='Date',columns='Category',values='Sales')\n",
    "sales_pivot"
   ]
  },
  {
   "cell_type": "code",
   "execution_count": null,
   "id": "f5b532d3-b265-49dd-8a0f-13a892e5fe9d",
   "metadata": {},
   "outputs": [],
   "source": [
    "import matplotlib.pyplot as plt \n",
    "sales_pivot.plot(kind='barh',stacked=True)\n",
    "plt.title('Sales by category over time')\n",
    "plt.xlabel('Date')\n",
    "plt.ylabel('sales')\n",
    "plt.show()"
   ]
  },
  {
   "cell_type": "markdown",
   "id": "a4a07600-f026-4afd-9ad6-9310dc28441f",
   "metadata": {},
   "source": [
    "Q11. You are given a CSV file containing student data that includes the student ID and their test score. Write\n",
    "a Python program that reads the CSV file, calculates the mean, median, and mode of the test scores, and\n",
    "displays the results in a table.\n",
    "The program should do the followingM\n",
    "I Prompt the user to enter the file path of the CSV file containing the student dataR\n",
    "I Read the CSV file into a Pandas DataFrameR\n",
    "I Calculate the mean, median, and mode of the test scores using Pandas toolsR\n",
    "I Display the mean, median, and mode in a table.\n",
    "Assume the CSV file contains the following columnsM\n",
    "I Student ID: The ID of the studentR\n",
    "I Test Score: The score of the student's test.\n",
    "Example usage of the program:\n",
    "Enter the file path of the CSV file containing the student data: student_data.csv\n",
    "+-----------+--------+\n",
    "| Statistic | Value |\n",
    "+-----------+--------+\n",
    "| Mean | 79.6 |\n",
    "| Median | 82 |\n",
    "| Mode | 85, 90 |\n",
    "+-----------+--------+\n",
    "Assume that the CSV file student_data.csv contains the following data:\n",
    "Student ID,Test Score\n",
    "1,85\n",
    "2,90\n",
    "3,80\n",
    "4,75\n",
    "5,85\n",
    "6,82\n",
    "7,78\n",
    "8,85\n",
    "9,90\n",
    "10,85\n",
    "The program should calculate the mean, median, and mode of the test scores and display the results\n",
    "in a table."
   ]
  },
  {
   "cell_type": "code",
   "execution_count": null,
   "id": "5333b610-b7b9-40dd-97fe-ede4c9444637",
   "metadata": {},
   "outputs": [],
   "source": [
    "import pandas as pd\n",
    "file_path='student_data.csv'\n",
    "students=pd.read_csv(file_path)\n",
    "\n",
    "st_stats={\n",
    "    'Mean': students['Test Score'].mean(),\n",
    "    'Median': students['Test Score'].median(),\n",
    "    'Mode': students['Test Score'].mode()\n",
    "}\n",
    "\n",
    "pd.DataFrame.from_dict(st_stats, orient='index',columns=['Values'])"
   ]
  }
 ],
 "metadata": {
  "kernelspec": {
   "display_name": "Python 3 (ipykernel)",
   "language": "python",
   "name": "python3"
  },
  "language_info": {
   "codemirror_mode": {
    "name": "ipython",
    "version": 3
   },
   "file_extension": ".py",
   "mimetype": "text/x-python",
   "name": "python",
   "nbconvert_exporter": "python",
   "pygments_lexer": "ipython3",
   "version": "3.10.8"
  }
 },
 "nbformat": 4,
 "nbformat_minor": 5
}
